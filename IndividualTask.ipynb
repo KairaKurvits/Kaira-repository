{
  "nbformat": 4,
  "nbformat_minor": 0,
  "metadata": {
    "colab": {
      "provenance": [],
      "authorship_tag": "ABX9TyPDDsbRXcOmhgHEih0JBSK4",
      "include_colab_link": true
    },
    "kernelspec": {
      "name": "python3",
      "display_name": "Python 3"
    },
    "language_info": {
      "name": "python"
    }
  },
  "cells": [
    {
      "cell_type": "markdown",
      "metadata": {
        "id": "view-in-github",
        "colab_type": "text"
      },
      "source": [
        "<a href=\"https://colab.research.google.com/github/KairaKurvits/Kaira-repository/blob/main/IndividualTask.ipynb\" target=\"_parent\"><img src=\"https://colab.research.google.com/assets/colab-badge.svg\" alt=\"Open In Colab\"/></a>"
      ]
    },
    {
      "cell_type": "markdown",
      "source": [
        "### Easy Level\n",
        "**Description:**\n",
        "Create a program where the user can input deposits into a bank account. The program should use `if-else` statements, `input()`, `int()` and while True loop to keep track of deposits.\n",
        "\n",
        "**Instructions:**\n",
        "1. Welcome the user to the bank\n",
        "2. Initiate balance = 0\n",
        "3. Ask the user to input the amount of money they want to deposit.\n",
        "4. Add the deposit amount to the total balance\n",
        "5. Ask the user if they want to make another deposit or exit the bank.\n",
        "6. If they choose to make another deposit, repeat the process (while True).\n",
        "7. If not, print the total amount deposited and exit the bank.\n"
      ],
      "metadata": {
        "id": "MqD1_qz5G_bd"
      }
    },
    {
      "cell_type": "code",
      "execution_count": 9,
      "metadata": {
        "colab": {
          "base_uri": "https://localhost:8080/"
        },
        "collapsed": true,
        "id": "DZF8ohOXG1jA",
        "outputId": "10424263-6594-43dd-c85f-ce14a38c90e4"
      },
      "outputs": [
        {
          "output_type": "stream",
          "name": "stdout",
          "text": [
            "Welcome to the bank!\n",
            "Enter the amount you want to deposit: 10\n",
            "Do you want to make another deposit? (yes/no): no\n",
            "Total amount deposited: $10\n",
            "Thank you for banking with us!\n"
          ]
        }
      ],
      "source": [
        "\n",
        "print(\"Welcome to the bank!\") #1. Welcome the user to the bank\n",
        "\n",
        "balance = 0 #2.Iniate balance= 0\n",
        "\n",
        "\n",
        "while True:\n",
        "    try:\n",
        "\n",
        "        deposit = int(input(\"Enter the amount you want to deposit: \"))\n",
        "\n",
        "\n",
        "        balance = balance + deposit\n",
        "\n",
        "\n",
        "        another_deposit = input(\"Do you want to make another deposit? (yes/no): \").strip().lower()\n",
        "\n",
        "\n",
        "        # Using if-else statement to handle the user's choice\n",
        "        if another_deposit == 'yes':\n",
        "            # Continue the loop to ask for another deposit\n",
        "            continue\n",
        "        elif another_deposit == 'no':\n",
        "            # Print the total amount deposited and exit the bank\n",
        "            print(f\"Total amount deposited: ${balance}\")\n",
        "            print(\"Thank you for banking with us!\")\n",
        "            break\n",
        "        else:\n",
        "            # Handle invalid responses\n",
        "            print(\"Invalid response. Please enter 'yes' or 'no'.\")\n",
        "    except ValueError:\n",
        "        # Handle the case where the user enters a non-integer value\n",
        "        print(\"Invalid input. Please enter a valid integer amount.\")"
      ]
    },
    {
      "cell_type": "markdown",
      "source": [
        "When you submit your program, submit a little description of your experience with developing this task. Which difficulty you chose and whether or not it was too easy/hard.\n",
        "\n",
        "I still need practise coding so I was struggeling even with using things we learned at our lectures. So I used googled. Like what syntax I needed to add another-deposit end.\n",
        "Other I tried to find from my materials and Wotech github. When I tested it seemed to work so I hope that it's good.\n",
        "And I hope that it is okhat I googled. I was bit lost that why it did not work and then learned about syntax strip() and lower()\n"
      ],
      "metadata": {
        "id": "mTfmlgo8M9lt"
      }
    }
  ]
}